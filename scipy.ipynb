import numpy as np
import matplotl.pyplot as plt
from scipy.stats import poisson
mu = 0.6
mean, var, skew, kurt = poisson.stats(mu, moments='mvsk')
rv = poisson(mu) 
variacao = np.arange(poisson.ppf(0.1, mu),
              poisson.ppf(0.99, mu))

resultado = rv.pmf(variacao)
plt.subplots(figsize=(7,4))
plt.bar(variacao,resultado, color='blue')

plt.xlabel('x')
plt.ylabel('Probabilidade')
plt.title('Distribuição Poisson 0.1')
plt.grid(False)
print(poisson.mean(0.1))
plt.show()

n = np.arange(0,12)
rate = 0.1
poisson = stats.poisson.pmf(n,rate)
plt.plot(n,poisson, 'o-')
plt.show()

from scipy.stats import expon

x = np.linspace(0, 10, 100) 
y1 = expon.pdf(x, 2, 3) 
plt.plot( x, y1) 

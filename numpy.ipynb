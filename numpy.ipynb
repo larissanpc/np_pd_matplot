import numpy as np
a = np.arange(10, 50)
print (a)
reverse = np.flipud(a)

print (reverse)

x1 = [1,2,3,4,5,6,7,8,9,10]
x2 = [1,2,3,4,5,6,7,8,9,10]
print(np.array_equal(x1,x1))
print(np.array_equal(x2,x1))

a = np.arange(3) #cria uma linha de tamanho de 0 a 2
b = np.arange(3)[:, np.newaxis] #cria uma coluna que com tamanho de 0 a 2 
                                #[:, np.newaxis] faz com que aumente o tamanho em 1 da lista de coluna
print(a)     #mostra os valores de a
print(b)     #mostra os valores de b
a + b        # soma os valores de a e b e mostra a tabela

